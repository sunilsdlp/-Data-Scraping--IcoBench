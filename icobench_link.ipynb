{
 "cells": [
  {
   "cell_type": "code",
   "execution_count": 7,
   "metadata": {},
   "outputs": [],
   "source": [
    "import requests\n",
    "from bs4 import BeautifulSoup\n",
    "page=requests.get(\"https://icobench.com/icos\")\n",
    "Vol_Rank=page.content\n",
    "soup=BeautifulSoup(Vol_Rank,\"lxml\")\n",
    "table=soup.find('table')\n",
    "link=list(table.find_all('div',class_='content'))\n",
    "for i in link:\n",
    "    lin=i.find('a')\n",
    "    page_in=requests.get(\"https://icobench.com\"+(lin['href']))\n",
    "    soup_in=BeautifulSoup(page_in.content,'lxml')\n",
    "    slink=soup_in.find('div',class_='socials')\n",
    "    socials=list(slink.find_all('a'))\n",
    "    for social in socials:\n",
    "        print(social['href'])"
   ]
  }
 ],
 "metadata": {
  "kernelspec": {
   "display_name": "Python 3",
   "language": "python",
   "name": "python3"
  },
  "language_info": {
   "codemirror_mode": {
    "name": "ipython",
    "version": 3
   },
   "file_extension": ".py",
   "mimetype": "text/x-python",
   "name": "python",
   "nbconvert_exporter": "python",
   "pygments_lexer": "ipython3",
   "version": "3.6.4"
  }
 },
 "nbformat": 4,
 "nbformat_minor": 2
}
